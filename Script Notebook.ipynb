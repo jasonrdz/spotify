{
 "cells": [
  {
   "cell_type": "code",
   "execution_count": 1,
   "id": "0eb0ef48",
   "metadata": {},
   "outputs": [],
   "source": [
    "import pandas as pd\n",
    "import os"
   ]
  },
  {
   "cell_type": "code",
   "execution_count": 32,
   "id": "f72b0b36",
   "metadata": {},
   "outputs": [
    {
     "data": {
      "text/plain": [
       "Index(['track name', 'artist(s) name', 'artist count', 'released year',\n",
       "       'released month', 'released day', 'in spotify playlists',\n",
       "       'in spotify charts', 'streams', 'in apple playlists', 'in apple charts',\n",
       "       'in deezer playlists', 'in deezer charts', 'in shazam charts', 'bpm',\n",
       "       'key', 'mode', 'danceability %', 'valence %', 'energy %',\n",
       "       'acousticness %', 'instrumentalness %', 'liveness %', 'speechiness %',\n",
       "       'cover url', 'artist name'],\n",
       "      dtype='object')"
      ]
     },
     "execution_count": 32,
     "metadata": {},
     "output_type": "execute_result"
    }
   ],
   "source": [
    "df = pd.read_csv('Spotify_data.csv')\n",
    "\n",
    "x = df.columns\n",
    "df.columns = [name.replace('_', ' ') for name in x]\n",
    "\n",
    "# cleaning up the data\n",
    "\n",
    "# checking how clean the data set is, and how many null values there are\n",
    "## df.isnull().sum()\n",
    "\n",
    "# checking the number of unique values\n",
    "# df.nunique()\n",
    "\n",
    "df.columns\n",
    "\n",
    "df['artist name'] = df['artist(s) name']\n",
    "\n"
   ]
  },
  {
   "cell_type": "code",
   "execution_count": 67,
   "id": "c7a5f508",
   "metadata": {},
   "outputs": [],
   "source": [
    "# which artist brings the most energy\n",
    "\n",
    "most_energetic = df.groupby('artist(s) name').agg({'energy %':'max', \n",
    "                                                 'liveness %': 'max'})\n",
    "most_energetic = most_energetic.sort_values(by=['energy %', 'liveness %'], ascending=[False, False])\n",
    "\n"
   ]
  },
  {
   "cell_type": "code",
   "execution_count": 84,
   "id": "abcac47c",
   "metadata": {},
   "outputs": [],
   "source": [
    "df['streams'] = df['streams'].apply(lambda x: 0 if x =='BPM110KeyAModeMajorDanceability53Valence75Energy69Acousticness7Instrumentalness0Liveness17Speechiness3'else x)\n",
    "\n",
    "df['streams'].astype(int)\n",
    "\n",
    "\n",
    "df['streams'] = pd.to_numeric(df['streams'], errors='coerce')\n",
    "\n"
   ]
  },
  {
   "cell_type": "code",
   "execution_count": 87,
   "id": "1c0ec787",
   "metadata": {},
   "outputs": [],
   "source": [
    "# who was the most popular artist in 2023\n",
    "\n",
    "df['2023'] = df['released year'].apply(lambda x: x if x >= 2023 else None)\n",
    "\n",
    "df['2023'] = df['2023'].dropna().astype(int)\n",
    "\n",
    "most_popular = df.groupby(['2023','artist name']).agg({'streams': 'mean', \n",
    "                                                         'in spotify charts': 'sum',\n",
    "                                                         'in apple charts': 'sum'\n",
    "                                                         })"
   ]
  },
  {
   "cell_type": "code",
   "execution_count": 89,
   "id": "0dd2cb5e",
   "metadata": {},
   "outputs": [
    {
     "ename": "KeyError",
     "evalue": "'value_column'",
     "output_type": "error",
     "traceback": [
      "\u001b[0;31m---------------------------------------------------------------------------\u001b[0m",
      "\u001b[0;31mKeyError\u001b[0m                                  Traceback (most recent call last)",
      "Cell \u001b[0;32mIn[89], line 1\u001b[0m\n\u001b[0;32m----> 1\u001b[0m pivot_table \u001b[38;5;241m=\u001b[39m df\u001b[38;5;241m.\u001b[39mpivot_table(values\u001b[38;5;241m=\u001b[39m\u001b[38;5;124m'\u001b[39m\u001b[38;5;124mvalue_column\u001b[39m\u001b[38;5;124m'\u001b[39m, \n\u001b[1;32m      2\u001b[0m                              index\u001b[38;5;241m=\u001b[39m\u001b[38;5;124m'\u001b[39m\u001b[38;5;124mrow_index_column\u001b[39m\u001b[38;5;124m'\u001b[39m, \n\u001b[1;32m      3\u001b[0m                              columns\u001b[38;5;241m=\u001b[39m\u001b[38;5;124m'\u001b[39m\u001b[38;5;124mcolumn_index_column\u001b[39m\u001b[38;5;124m'\u001b[39m, \n\u001b[1;32m      4\u001b[0m                              aggfunc\u001b[38;5;241m=\u001b[39m\u001b[38;5;124m'\u001b[39m\u001b[38;5;124maggregation_function\u001b[39m\u001b[38;5;124m'\u001b[39m)\n",
      "File \u001b[0;32m/opt/anaconda3/lib/python3.11/site-packages/pandas/core/frame.py:9190\u001b[0m, in \u001b[0;36mDataFrame.pivot_table\u001b[0;34m(self, values, index, columns, aggfunc, fill_value, margins, dropna, margins_name, observed, sort)\u001b[0m\n\u001b[1;32m   9173\u001b[0m \u001b[38;5;129m@Substitution\u001b[39m(\u001b[38;5;124m\"\u001b[39m\u001b[38;5;124m\"\u001b[39m)\n\u001b[1;32m   9174\u001b[0m \u001b[38;5;129m@Appender\u001b[39m(_shared_docs[\u001b[38;5;124m\"\u001b[39m\u001b[38;5;124mpivot_table\u001b[39m\u001b[38;5;124m\"\u001b[39m])\n\u001b[1;32m   9175\u001b[0m \u001b[38;5;28;01mdef\u001b[39;00m \u001b[38;5;21mpivot_table\u001b[39m(\n\u001b[0;32m   (...)\u001b[0m\n\u001b[1;32m   9186\u001b[0m     sort: \u001b[38;5;28mbool\u001b[39m \u001b[38;5;241m=\u001b[39m \u001b[38;5;28;01mTrue\u001b[39;00m,\n\u001b[1;32m   9187\u001b[0m ) \u001b[38;5;241m-\u001b[39m\u001b[38;5;241m>\u001b[39m DataFrame:\n\u001b[1;32m   9188\u001b[0m     \u001b[38;5;28;01mfrom\u001b[39;00m \u001b[38;5;21;01mpandas\u001b[39;00m\u001b[38;5;21;01m.\u001b[39;00m\u001b[38;5;21;01mcore\u001b[39;00m\u001b[38;5;21;01m.\u001b[39;00m\u001b[38;5;21;01mreshape\u001b[39;00m\u001b[38;5;21;01m.\u001b[39;00m\u001b[38;5;21;01mpivot\u001b[39;00m \u001b[38;5;28;01mimport\u001b[39;00m pivot_table\n\u001b[0;32m-> 9190\u001b[0m     \u001b[38;5;28;01mreturn\u001b[39;00m pivot_table(\n\u001b[1;32m   9191\u001b[0m         \u001b[38;5;28mself\u001b[39m,\n\u001b[1;32m   9192\u001b[0m         values\u001b[38;5;241m=\u001b[39mvalues,\n\u001b[1;32m   9193\u001b[0m         index\u001b[38;5;241m=\u001b[39mindex,\n\u001b[1;32m   9194\u001b[0m         columns\u001b[38;5;241m=\u001b[39mcolumns,\n\u001b[1;32m   9195\u001b[0m         aggfunc\u001b[38;5;241m=\u001b[39maggfunc,\n\u001b[1;32m   9196\u001b[0m         fill_value\u001b[38;5;241m=\u001b[39mfill_value,\n\u001b[1;32m   9197\u001b[0m         margins\u001b[38;5;241m=\u001b[39mmargins,\n\u001b[1;32m   9198\u001b[0m         dropna\u001b[38;5;241m=\u001b[39mdropna,\n\u001b[1;32m   9199\u001b[0m         margins_name\u001b[38;5;241m=\u001b[39mmargins_name,\n\u001b[1;32m   9200\u001b[0m         observed\u001b[38;5;241m=\u001b[39mobserved,\n\u001b[1;32m   9201\u001b[0m         sort\u001b[38;5;241m=\u001b[39msort,\n\u001b[1;32m   9202\u001b[0m     )\n",
      "File \u001b[0;32m/opt/anaconda3/lib/python3.11/site-packages/pandas/core/reshape/pivot.py:99\u001b[0m, in \u001b[0;36mpivot_table\u001b[0;34m(data, values, index, columns, aggfunc, fill_value, margins, dropna, margins_name, observed, sort)\u001b[0m\n\u001b[1;32m     96\u001b[0m     table \u001b[38;5;241m=\u001b[39m concat(pieces, keys\u001b[38;5;241m=\u001b[39mkeys, axis\u001b[38;5;241m=\u001b[39m\u001b[38;5;241m1\u001b[39m)\n\u001b[1;32m     97\u001b[0m     \u001b[38;5;28;01mreturn\u001b[39;00m table\u001b[38;5;241m.\u001b[39m__finalize__(data, method\u001b[38;5;241m=\u001b[39m\u001b[38;5;124m\"\u001b[39m\u001b[38;5;124mpivot_table\u001b[39m\u001b[38;5;124m\"\u001b[39m)\n\u001b[0;32m---> 99\u001b[0m table \u001b[38;5;241m=\u001b[39m __internal_pivot_table(\n\u001b[1;32m    100\u001b[0m     data,\n\u001b[1;32m    101\u001b[0m     values,\n\u001b[1;32m    102\u001b[0m     index,\n\u001b[1;32m    103\u001b[0m     columns,\n\u001b[1;32m    104\u001b[0m     aggfunc,\n\u001b[1;32m    105\u001b[0m     fill_value,\n\u001b[1;32m    106\u001b[0m     margins,\n\u001b[1;32m    107\u001b[0m     dropna,\n\u001b[1;32m    108\u001b[0m     margins_name,\n\u001b[1;32m    109\u001b[0m     observed,\n\u001b[1;32m    110\u001b[0m     sort,\n\u001b[1;32m    111\u001b[0m )\n\u001b[1;32m    112\u001b[0m \u001b[38;5;28;01mreturn\u001b[39;00m table\u001b[38;5;241m.\u001b[39m__finalize__(data, method\u001b[38;5;241m=\u001b[39m\u001b[38;5;124m\"\u001b[39m\u001b[38;5;124mpivot_table\u001b[39m\u001b[38;5;124m\"\u001b[39m)\n",
      "File \u001b[0;32m/opt/anaconda3/lib/python3.11/site-packages/pandas/core/reshape/pivot.py:145\u001b[0m, in \u001b[0;36m__internal_pivot_table\u001b[0;34m(data, values, index, columns, aggfunc, fill_value, margins, dropna, margins_name, observed, sort)\u001b[0m\n\u001b[1;32m    143\u001b[0m \u001b[38;5;28;01mfor\u001b[39;00m i \u001b[38;5;129;01min\u001b[39;00m values:\n\u001b[1;32m    144\u001b[0m     \u001b[38;5;28;01mif\u001b[39;00m i \u001b[38;5;129;01mnot\u001b[39;00m \u001b[38;5;129;01min\u001b[39;00m data:\n\u001b[0;32m--> 145\u001b[0m         \u001b[38;5;28;01mraise\u001b[39;00m \u001b[38;5;167;01mKeyError\u001b[39;00m(i)\n\u001b[1;32m    147\u001b[0m to_filter \u001b[38;5;241m=\u001b[39m []\n\u001b[1;32m    148\u001b[0m \u001b[38;5;28;01mfor\u001b[39;00m x \u001b[38;5;129;01min\u001b[39;00m keys \u001b[38;5;241m+\u001b[39m values:\n",
      "\u001b[0;31mKeyError\u001b[0m: 'value_column'"
     ]
    }
   ],
   "source": [
    "pivot_table = df.pivot_table(values='streams', \n",
    "                             index='row_index_column', \n",
    "                             columns='column_index_column', \n",
    "                             aggfunc='aggregation_function')\n"
   ]
  },
  {
   "cell_type": "code",
   "execution_count": null,
   "id": "3588c218",
   "metadata": {},
   "outputs": [],
   "source": []
  }
 ],
 "metadata": {
  "kernelspec": {
   "display_name": "Python 3 (ipykernel)",
   "language": "python",
   "name": "python3"
  },
  "language_info": {
   "codemirror_mode": {
    "name": "ipython",
    "version": 3
   },
   "file_extension": ".py",
   "mimetype": "text/x-python",
   "name": "python",
   "nbconvert_exporter": "python",
   "pygments_lexer": "ipython3",
   "version": "3.11.7"
  }
 },
 "nbformat": 4,
 "nbformat_minor": 5
}
